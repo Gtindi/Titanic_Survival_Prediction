{
 "cells": [
  {
   "cell_type": "markdown",
   "id": "cdb0275c",
   "metadata": {},
   "source": [
    "# Bachelor of Science in Software Development"
   ]
  },
  {
   "cell_type": "markdown",
   "id": "00b99600",
   "metadata": {},
   "source": [
    "## Machine Learning - BSD 3204"
   ]
  },
  {
   "cell_type": "markdown",
   "id": "c13aa824",
   "metadata": {},
   "source": [
    "`Name` : Gabriel Tindi\n",
    "    \n",
    "`RegNo` : 19/06014"
   ]
  },
  {
   "cell_type": "markdown",
   "id": "206d10a6",
   "metadata": {},
   "source": [
    "# TITANIC SURVIVAL PREDICTION"
   ]
  },
  {
   "cell_type": "markdown",
   "id": "9a5fe919",
   "metadata": {},
   "source": [
    "## Project Overview"
   ]
  },
  {
   "cell_type": "markdown",
   "id": "858d2e4a",
   "metadata": {},
   "source": [
    "Build a model that predicts whether a passenger on the Titanic survived or not. The goal is to uncover patterns in the data that contribute to survival outcomes during the Titanic disaster."
   ]
  },
  {
   "cell_type": "markdown",
   "id": "885db155",
   "metadata": {},
   "source": [
    "## Data Understanding\n",
    "The Titanic dataset, consisting of 418 entries and 12 columns, provides information about passengers aboard the Titanic during its ill-fated voyage. Key columns include:\n",
    "\n",
    "`PassengerId`: Unique identifier for each passenger.\n",
    "\n",
    "`Survived`: Binary variable indicating survival (1 for survived, 0 for not survived).\n",
    "\n",
    "`Pclass`: Ticket class (1st, 2nd, or 3rd).\n",
    "\n",
    "`Name`: Name of the passenger.\n",
    "\n",
    "`Sex`: Gender of the passenger.\n",
    "\n",
    "`Age`: Age of the passenger (with some missing values).\n",
    "\n",
    "`SibSp`: Number of siblings or spouses aboard.\n",
    "\n",
    "`Parch`: Number of parents or children aboard.\n",
    "\n",
    "`Ticket`: Ticket number.\n",
    "\n",
    "`Fare`: Fare paid for the ticket (with a missing value).\n",
    "\n",
    "`Cabin`: Cabin number (with several missing values).\n",
    "\n",
    "`Embarked`: Port of embarkation (C for Cherbourg, Q for Queenstown, S for Southampton).\n",
    "\n",
    "The dataset captures details of passengers and circumstances related to the Titanic disaster. The project aims to leverage this data to predict passenger survival."
   ]
  },
  {
   "cell_type": "markdown",
   "id": "0117b064",
   "metadata": {},
   "source": [
    "# Data Preprocessing"
   ]
  },
  {
   "cell_type": "markdown",
   "id": "0a201f04",
   "metadata": {},
   "source": [
    "   ## Step 1: Loading & Exploring the data"
   ]
  },
  {
   "cell_type": "code",
   "execution_count": 573,
   "id": "2f75a0f2",
   "metadata": {},
   "outputs": [],
   "source": [
    "# importing libraries\n",
    "import pandas as pd\n",
    "import numpy as np\n",
    "import matplotlib.pyplot as plt\n",
    "from sklearn.linear_model import LogisticRegression\n",
    "from sklearn.tree import DecisionTreeClassifier\n",
    "from sklearn.ensemble import RandomForestClassifier\n",
    "from sklearn.neighbors import KNeighborsClassifier\n",
    "from sklearn.svm import SVC\n",
    "from sklearn.model_selection import cross_val_score, train_test_split\n",
    "from sklearn.metrics import accuracy_score, precision_score, recall_score, classification_report"
   ]
  },
  {
   "cell_type": "code",
   "execution_count": 574,
   "id": "538469b4",
   "metadata": {},
   "outputs": [
    {
     "name": "stdout",
     "output_type": "stream",
     "text": [
      "     PassengerId  Survived  Pclass  \\\n",
      "0              1         0       3   \n",
      "1              2         1       1   \n",
      "2              3         1       3   \n",
      "3              4         1       1   \n",
      "4              5         0       3   \n",
      "..           ...       ...     ...   \n",
      "886          887         0       2   \n",
      "887          888         1       1   \n",
      "888          889         0       3   \n",
      "889          890         1       1   \n",
      "890          891         0       3   \n",
      "\n",
      "                                                  Name     Sex   Age  SibSp  \\\n",
      "0                              Braund, Mr. Owen Harris    male  22.0      1   \n",
      "1    Cumings, Mrs. John Bradley (Florence Briggs Th...  female  38.0      1   \n",
      "2                               Heikkinen, Miss. Laina  female  26.0      0   \n",
      "3         Futrelle, Mrs. Jacques Heath (Lily May Peel)  female  35.0      1   \n",
      "4                             Allen, Mr. William Henry    male  35.0      0   \n",
      "..                                                 ...     ...   ...    ...   \n",
      "886                              Montvila, Rev. Juozas    male  27.0      0   \n",
      "887                       Graham, Miss. Margaret Edith  female  19.0      0   \n",
      "888           Johnston, Miss. Catherine Helen \"Carrie\"  female   NaN      1   \n",
      "889                              Behr, Mr. Karl Howell    male  26.0      0   \n",
      "890                                Dooley, Mr. Patrick    male  32.0      0   \n",
      "\n",
      "     Parch            Ticket     Fare Cabin Embarked  \n",
      "0        0         A/5 21171   7.2500   NaN        S  \n",
      "1        0          PC 17599  71.2833   C85        C  \n",
      "2        0  STON/O2. 3101282   7.9250   NaN        S  \n",
      "3        0            113803  53.1000  C123        S  \n",
      "4        0            373450   8.0500   NaN        S  \n",
      "..     ...               ...      ...   ...      ...  \n",
      "886      0            211536  13.0000   NaN        S  \n",
      "887      0            112053  30.0000   B42        S  \n",
      "888      2        W./C. 6607  23.4500   NaN        S  \n",
      "889      0            111369  30.0000  C148        C  \n",
      "890      0            370376   7.7500   NaN        Q  \n",
      "\n",
      "[891 rows x 12 columns]\n",
      "   PassengerId  Survived  Pclass  \\\n",
      "0            1         0       3   \n",
      "1            2         1       1   \n",
      "2            3         1       3   \n",
      "3            4         1       1   \n",
      "4            5         0       3   \n",
      "\n",
      "                                                Name     Sex   Age  SibSp  \\\n",
      "0                            Braund, Mr. Owen Harris    male  22.0      1   \n",
      "1  Cumings, Mrs. John Bradley (Florence Briggs Th...  female  38.0      1   \n",
      "2                             Heikkinen, Miss. Laina  female  26.0      0   \n",
      "3       Futrelle, Mrs. Jacques Heath (Lily May Peel)  female  35.0      1   \n",
      "4                           Allen, Mr. William Henry    male  35.0      0   \n",
      "\n",
      "   Parch            Ticket     Fare Cabin Embarked  \n",
      "0      0         A/5 21171   7.2500   NaN        S  \n",
      "1      0          PC 17599  71.2833   C85        C  \n",
      "2      0  STON/O2. 3101282   7.9250   NaN        S  \n",
      "3      0            113803  53.1000  C123        S  \n",
      "4      0            373450   8.0500   NaN        S  \n"
     ]
    }
   ],
   "source": [
    "# Load the dataset\n",
    "ds = pd.read_csv(\"Titanic-Dataset.csv\")\n",
    "print(ds)\n",
    "\n",
    "# Explore the dataset\n",
    "print(ds.head())  # View the first few rows"
   ]
  },
  {
   "cell_type": "code",
   "execution_count": 575,
   "id": "5c71f104",
   "metadata": {},
   "outputs": [
    {
     "name": "stdout",
     "output_type": "stream",
     "text": [
      "<class 'pandas.core.frame.DataFrame'>\n",
      "RangeIndex: 891 entries, 0 to 890\n",
      "Data columns (total 12 columns):\n",
      " #   Column       Non-Null Count  Dtype  \n",
      "---  ------       --------------  -----  \n",
      " 0   PassengerId  891 non-null    int64  \n",
      " 1   Survived     891 non-null    int64  \n",
      " 2   Pclass       891 non-null    int64  \n",
      " 3   Name         891 non-null    object \n",
      " 4   Sex          891 non-null    object \n",
      " 5   Age          714 non-null    float64\n",
      " 6   SibSp        891 non-null    int64  \n",
      " 7   Parch        891 non-null    int64  \n",
      " 8   Ticket       891 non-null    object \n",
      " 9   Fare         891 non-null    float64\n",
      " 10  Cabin        204 non-null    object \n",
      " 11  Embarked     889 non-null    object \n",
      "dtypes: float64(2), int64(5), object(5)\n",
      "memory usage: 83.7+ KB\n",
      "None\n",
      "PassengerId      0\n",
      "Survived         0\n",
      "Pclass           0\n",
      "Name             0\n",
      "Sex              0\n",
      "Age            177\n",
      "SibSp            0\n",
      "Parch            0\n",
      "Ticket           0\n",
      "Fare             0\n",
      "Cabin          687\n",
      "Embarked         2\n",
      "dtype: int64\n",
      "       PassengerId    Survived      Pclass         Age       SibSp  \\\n",
      "count   891.000000  891.000000  891.000000  714.000000  891.000000   \n",
      "mean    446.000000    0.383838    2.308642   29.699118    0.523008   \n",
      "std     257.353842    0.486592    0.836071   14.526497    1.102743   \n",
      "min       1.000000    0.000000    1.000000    0.420000    0.000000   \n",
      "25%     223.500000    0.000000    2.000000   20.125000    0.000000   \n",
      "50%     446.000000    0.000000    3.000000   28.000000    0.000000   \n",
      "75%     668.500000    1.000000    3.000000   38.000000    1.000000   \n",
      "max     891.000000    1.000000    3.000000   80.000000    8.000000   \n",
      "\n",
      "            Parch        Fare  \n",
      "count  891.000000  891.000000  \n",
      "mean     0.381594   32.204208  \n",
      "std      0.806057   49.693429  \n",
      "min      0.000000    0.000000  \n",
      "25%      0.000000    7.910400  \n",
      "50%      0.000000   14.454200  \n",
      "75%      0.000000   31.000000  \n",
      "max      6.000000  512.329200  \n"
     ]
    },
    {
     "data": {
      "text/plain": [
       "(891, 12)"
      ]
     },
     "execution_count": 575,
     "metadata": {},
     "output_type": "execute_result"
    }
   ],
   "source": [
    "# Get information about data types and missing values\n",
    "print(ds.info())\n",
    "print(ds.isnull().sum())\n",
    "\n",
    "print(ds.describe())  # Get descriptive statistics\n",
    "ds.shape # Display the number of row and column"
   ]
  },
  {
   "cell_type": "markdown",
   "id": "8ba39c88",
   "metadata": {},
   "source": [
    "## Step 2: Handle missing values and Data Cleaning"
   ]
  },
  {
   "cell_type": "markdown",
   "id": "85c8d0c6",
   "metadata": {},
   "source": [
    "To ensure the development of a robust and accurate model, several data cleaning techniques will be applied to the dataset. The following techniques will be employed:\n",
    "\n",
    "#### 1. Completeness: \n",
    "This method entails dealing with missing values in the dataset. Procedures will be implemented to identify and manage missing data effectively, employing either imputation or removal, to guarantee the completeness of the dataset.\n",
    "\n",
    "#### 2. Consistency: \n",
    "The data's consistency will be scrutinized to detect any discrepancies or anomalies. Inconsistencies in variables, such as conflicting formats or contradictory information within the dataset, will be identified and resolved to uphold data integrity.\n",
    "\n",
    "#### 3. Validity: \n",
    "Validity pertains to the accuracy and relevance of the data. Data validation techniques will be employed to confirm that the values within each variable adhere to anticipated ranges or predefined criteria. Any invalid or erroneous data points will be corrected or excluded from the dataset.\n",
    "\n",
    "#### 4. Uniformity: \n",
    "Uniformity plays a pivotal role in the data cleaning process to guarantee consistency and accurate analysis. Inconsistent or non-uniform data can introduce errors and bias into the modeling process, potentially yielding unreliable results. Robust techniques will be implemented to identify and address non-uniformity effectively, ensuring that the data is standardized and aligned.\n",
    "\n",
    "By applying these data cleaning techniques, the dataset will be refined and prepared, ensuring the reliability and accuracy of the data before proceeding with the subsequent stages of analysis and modeling."
   ]
  },
  {
   "cell_type": "markdown",
   "id": "9f2e406a",
   "metadata": {},
   "source": [
    "### 1. Completeness"
   ]
  },
  {
   "cell_type": "code",
   "execution_count": 576,
   "id": "703f0e11",
   "metadata": {},
   "outputs": [
    {
     "name": "stdout",
     "output_type": "stream",
     "text": [
      "PassengerId      0\n",
      "Survived         0\n",
      "Pclass           0\n",
      "Name             0\n",
      "Sex              0\n",
      "Age            177\n",
      "SibSp            0\n",
      "Parch            0\n",
      "Ticket           0\n",
      "Fare             0\n",
      "Cabin          687\n",
      "Embarked         2\n",
      "dtype: int64\n"
     ]
    }
   ],
   "source": [
    "# Count the missing values\n",
    "print(ds.isnull().sum())"
   ]
  },
  {
   "cell_type": "markdown",
   "id": "b50d6b42",
   "metadata": {},
   "source": [
    "There are 3 columns with missing values which are `Age, Cabin and Embarked`. Imputation method will be used to handle missing values in Age and Embarked columns"
   ]
  },
  {
   "cell_type": "code",
   "execution_count": 577,
   "id": "b6714792",
   "metadata": {},
   "outputs": [
    {
     "data": {
      "image/png": "[encoded data removed]",
      "text/plain": [
       "<Figure size 1000x600 with 3 Axes>"
      ]
     },
     "metadata": {},
     "output_type": "display_data"
    }
   ],
   "source": [
    "# Visualize the missing values\n",
    "import missingno as msno\n",
    "import matplotlib.pyplot as plt\n",
    "import seaborn as sns\n",
    "\n",
    "# Set a custom color palette\n",
    "color_pal = sns.color_palette(\"YlOrRd\")\n",
    "\n",
    "# Plot the bar chart with the custom color palette\n",
    "msno.bar(ds, figsize=(10, 6), color=color_pal, fontsize=12)\n",
    "\n",
    "# Add title and customize the plot\n",
    "plt.title('Percentage of Missing Values in Each Column', fontsize=16)\n",
    "plt.show()"
   ]
  },
  {
   "cell_type": "code",
   "execution_count": 578,
   "id": "9095a24e",
   "metadata": {},
   "outputs": [
    {
     "name": "stdout",
     "output_type": "stream",
     "text": [
      "PassengerId    0\n",
      "Survived       0\n",
      "Pclass         0\n",
      "Name           0\n",
      "Sex            0\n",
      "Age            0\n",
      "SibSp          0\n",
      "Parch          0\n",
      "Ticket         0\n",
      "Fare           0\n",
      "Embarked       0\n",
      "dtype: int64\n"
     ]
    }
   ],
   "source": [
    "# Fill missing ages with mean\n",
    "ds[\"Age\"].fillna(ds[\"Age\"].mean(), inplace=True)\n",
    "\n",
    "# Drop rows with missing Embarked values for simplicity\n",
    "ds = ds.dropna(subset=['Embarked'])\n",
    "\n",
    "# Dropping the Cabin column\n",
    "ds = ds.drop(['Cabin'], axis=1) \n",
    "\n",
    "#checking to see if the missing values are still there\n",
    "print(ds.isnull().sum())"
   ]
  },
  {
   "cell_type": "markdown",
   "id": "eecc6a88",
   "metadata": {},
   "source": [
    "I have filled the missing values in age with the mean and removed the missing values in Embarked. The Cabin column has a significant proportion of missing values, approximately 78% (687 out of 891). Considering the high percentage, we drop this column from analysis."
   ]
  },
  {
   "cell_type": "markdown",
   "id": "37a6bd9d",
   "metadata": {},
   "source": [
    "### 2. Consistency"
   ]
  },
  {
   "cell_type": "code",
   "execution_count": 579,
   "id": "ff3a3d1e",
   "metadata": {},
   "outputs": [
    {
     "name": "stdout",
     "output_type": "stream",
     "text": [
      "The data has 0 duplicates\n"
     ]
    }
   ],
   "source": [
    "# checking for duplicates\n",
    "print(f'The data has {ds.duplicated().sum()} duplicates')"
   ]
  },
  {
   "cell_type": "markdown",
   "id": "cb40aaeb",
   "metadata": {},
   "source": [
    "The data has no `duplicates` hence it's consistent."
   ]
  },
  {
   "cell_type": "markdown",
   "id": "2c13a544",
   "metadata": {},
   "source": [
    "### 3. Validity"
   ]
  },
  {
   "cell_type": "markdown",
   "id": "65bb645c",
   "metadata": {},
   "source": [
    "1. `Validating Numerical Values:`\n",
    "\n",
    "We can use statistical methods to identify values that fall outside expected ranges or criteria."
   ]
  },
  {
   "cell_type": "code",
   "execution_count": 580,
   "id": "22e94aaa",
   "metadata": {},
   "outputs": [
    {
     "name": "stdout",
     "output_type": "stream",
     "text": [
      "Invalid Age Values:\n",
      "Series([], Name: Age, dtype: float64)\n",
      "\n",
      "Invalid Fare Values:\n",
      "Series([], Name: Fare, dtype: float64)\n"
     ]
    }
   ],
   "source": [
    "# Validating numerical columns ('Age', 'Fare')\n",
    "# Define expected ranges or criteria\n",
    "age_range = (0, 100)  # Example age range\n",
    "fare_range = (0, float('inf'))  # Example fare range\n",
    "\n",
    "# Check for values outside the expected ranges\n",
    "invalid_age_values = ds.loc[~ds['Age'].between(*age_range), 'Age']\n",
    "invalid_fare_values = ds.loc[~ds['Fare'].between(*fare_range), 'Fare']\n",
    "\n",
    "# Display the invalid values\n",
    "print(\"Invalid Age Values:\")\n",
    "print(invalid_age_values)\n",
    "\n",
    "print(\"\\nInvalid Fare Values:\")\n",
    "print(invalid_fare_values)"
   ]
  },
  {
   "cell_type": "markdown",
   "id": "e984e6d2",
   "metadata": {},
   "source": [
    "There are no invalid values for the Age and Fare columns based on the specific validity criteria we checked."
   ]
  },
  {
   "cell_type": "markdown",
   "id": "874eeef4",
   "metadata": {},
   "source": [
    "2. `Validating Categorical Values:`\n",
    "\n",
    "For categorical variables, we define a set of valid categories and identify any values that do not match."
   ]
  },
  {
   "cell_type": "code",
   "execution_count": 581,
   "id": "f0131393",
   "metadata": {},
   "outputs": [
    {
     "name": "stdout",
     "output_type": "stream",
     "text": [
      "Invalid Sex Values:\n",
      "Series([], Name: Sex, dtype: object)\n",
      "\n",
      "Invalid Embarked Values:\n",
      "Series([], Name: Embarked, dtype: object)\n"
     ]
    }
   ],
   "source": [
    "# Validating categorical columns ('Sex', 'Embarked')\n",
    "# Define valid categories\n",
    "valid_sex_categories = {'male', 'female'}\n",
    "valid_embarked_categories = {'C', 'Q', 'S'}\n",
    "\n",
    "# Check for values not in the valid categories\n",
    "invalid_sex_values = ds.loc[~ds['Sex'].isin(valid_sex_categories), 'Sex']\n",
    "invalid_embarked_values = ds.loc[~ds['Embarked'].isin(valid_embarked_categories), 'Embarked']\n",
    "\n",
    "# Display the invalid values\n",
    "print(\"Invalid Sex Values:\")\n",
    "print(invalid_sex_values)\n",
    "\n",
    "print(\"\\nInvalid Embarked Values:\")\n",
    "print(invalid_embarked_values)"
   ]
  },
  {
   "cell_type": "markdown",
   "id": "8659a951",
   "metadata": {},
   "source": [
    "\n",
    "There are no invalid values for the Sex and Embarked columns based on the specific validity criteria we checked."
   ]
  },
  {
   "cell_type": "markdown",
   "id": "d81c8435",
   "metadata": {},
   "source": [
    "### 4. Uniformity"
   ]
  },
  {
   "cell_type": "code",
   "execution_count": 582,
   "id": "3e7631cb",
   "metadata": {},
   "outputs": [
    {
     "name": "stdout",
     "output_type": "stream",
     "text": [
      "Column: Sex\n",
      "Unique Values: ['male' 'female']\n",
      "Value Counts:\n",
      " Sex\n",
      "male      577\n",
      "female    312\n",
      "Name: count, dtype: int64\n",
      "----------------------------\n"
     ]
    },
    {
     "data": {
      "image/png": "[encoded data removed]",
      "text/plain": [
       "<Figure size 800x500 with 1 Axes>"
      ]
     },
     "metadata": {},
     "output_type": "display_data"
    },
    {
     "name": "stdout",
     "output_type": "stream",
     "text": [
      "Column: Embarked\n",
      "Unique Values: ['S' 'C' 'Q']\n",
      "Value Counts:\n",
      " Embarked\n",
      "S    644\n",
      "C    168\n",
      "Q     77\n",
      "Name: count, dtype: int64\n",
      "----------------------------\n"
     ]
    },
    {
     "data": {
      "image/png": "[encoded data removed]",
      "text/plain": [
       "<Figure size 800x500 with 1 Axes>"
      ]
     },
     "metadata": {},
     "output_type": "display_data"
    },
    {
     "name": "stdout",
     "output_type": "stream",
     "text": [
      "Column: Survived\n",
      "Unique Values: [0 1]\n",
      "Value Counts:\n",
      " Survived\n",
      "0    549\n",
      "1    340\n",
      "Name: count, dtype: int64\n",
      "----------------------------\n"
     ]
    },
    {
     "data": {
      "image/png": "[encoded data removed]",
      "text/plain": [
       "<Figure size 800x500 with 1 Axes>"
      ]
     },
     "metadata": {},
     "output_type": "display_data"
    }
   ],
   "source": [
    "#creating a function to check for uniformity \n",
    "def check_uniformity(dataset, columns):\n",
    "    for column in columns:\n",
    "        unique_values = dataset[column].unique()\n",
    "        value_counts = dataset[column].value_counts()\n",
    "\n",
    "        print(f\"Column: {column}\")\n",
    "        print(\"Unique Values:\", unique_values)\n",
    "        print(\"Value Counts:\\n\", value_counts)\n",
    "        print(\"----------------------------\")\n",
    "\n",
    "        # Plot a bar chart for value counts\n",
    "        plt.figure(figsize=(8, 5))\n",
    "        sns.countplot(x=dataset[column], palette='viridis')\n",
    "        plt.title(f'Distribution of {column}')\n",
    "        plt.show()\n",
    "\n",
    "# Specify the columns you want to check for uniformity\n",
    "columns_to_check = ['Sex', 'Embarked', 'Survived']\n",
    "\n",
    "# Call the function\n",
    "check_uniformity(ds, columns_to_check)"
   ]
  },
  {
   "cell_type": "markdown",
   "id": "e5115596",
   "metadata": {},
   "source": [
    "The `Sex`, `Embarked` and `Survived` columns appear to be uniform, with consistent and expected values. There is no indication of irregularities or unexpected variations in these categorical columns based on the provided output"
   ]
  },
  {
   "cell_type": "markdown",
   "id": "bd38c45f",
   "metadata": {},
   "source": [
    "## Step 3: Feature Engineering"
   ]
  },
  {
   "cell_type": "markdown",
   "id": "9479eac2",
   "metadata": {},
   "source": [
    "Creating categorical variable for traveling alone and label encoding"
   ]
  },
  {
   "cell_type": "code",
   "execution_count": 583,
   "id": "bd9fa559",
   "metadata": {},
   "outputs": [
    {
     "data": {
      "text/html": [
       "<div>\n",
       "<style scoped>\n",
       "    .dataframe tbody tr th:only-of-type {\n",
       "        vertical-align: middle;\n",
       "    }\n",
       "\n",
       "    .dataframe tbody tr th {\n",
       "        vertical-align: top;\n",
       "    }\n",
       "\n",
       "    .dataframe thead th {\n",
       "        text-align: right;\n",
       "    }\n",
       "</style>\n",
       "<table border=\"1\" class=\"dataframe\">\n",
       "  <thead>\n",
       "    <tr style=\"text-align: right;\">\n",
       "      <th></th>\n",
       "      <th>PassengerId</th>\n",
       "      <th>Survived</th>\n",
       "      <th>Pclass</th>\n",
       "      <th>Name</th>\n",
       "      <th>Sex</th>\n",
       "      <th>Age</th>\n",
       "      <th>SibSp</th>\n",
       "      <th>Parch</th>\n",
       "      <th>Ticket</th>\n",
       "      <th>Fare</th>\n",
       "      <th>Embarked</th>\n",
       "      <th>FamilySize</th>\n",
       "      <th>IsAlone</th>\n",
       "    </tr>\n",
       "  </thead>\n",
       "  <tbody>\n",
       "    <tr>\n",
       "      <th>0</th>\n",
       "      <td>1</td>\n",
       "      <td>0</td>\n",
       "      <td>3</td>\n",
       "      <td>Braund, Mr. Owen Harris</td>\n",
       "      <td>male</td>\n",
       "      <td>22.000000</td>\n",
       "      <td>1</td>\n",
       "      <td>0</td>\n",
       "      <td>A/5 21171</td>\n",
       "      <td>7.2500</td>\n",
       "      <td>S</td>\n",
       "      <td>1</td>\n",
       "      <td>0</td>\n",
       "    </tr>\n",
       "    <tr>\n",
       "      <th>1</th>\n",
       "      <td>2</td>\n",
       "      <td>1</td>\n",
       "      <td>1</td>\n",
       "      <td>Cumings, Mrs. John Bradley (Florence Briggs Th...</td>\n",
       "      <td>female</td>\n",
       "      <td>38.000000</td>\n",
       "      <td>1</td>\n",
       "      <td>0</td>\n",
       "      <td>PC 17599</td>\n",
       "      <td>71.2833</td>\n",
       "      <td>C</td>\n",
       "      <td>1</td>\n",
       "      <td>0</td>\n",
       "    </tr>\n",
       "    <tr>\n",
       "      <th>2</th>\n",
       "      <td>3</td>\n",
       "      <td>1</td>\n",
       "      <td>3</td>\n",
       "      <td>Heikkinen, Miss. Laina</td>\n",
       "      <td>female</td>\n",
       "      <td>26.000000</td>\n",
       "      <td>0</td>\n",
       "      <td>0</td>\n",
       "      <td>STON/O2. 3101282</td>\n",
       "      <td>7.9250</td>\n",
       "      <td>S</td>\n",
       "      <td>0</td>\n",
       "      <td>1</td>\n",
       "    </tr>\n",
       "    <tr>\n",
       "      <th>3</th>\n",
       "      <td>4</td>\n",
       "      <td>1</td>\n",
       "      <td>1</td>\n",
       "      <td>Futrelle, Mrs. Jacques Heath (Lily May Peel)</td>\n",
       "      <td>female</td>\n",
       "      <td>35.000000</td>\n",
       "      <td>1</td>\n",
       "      <td>0</td>\n",
       "      <td>113803</td>\n",
       "      <td>53.1000</td>\n",
       "      <td>S</td>\n",
       "      <td>1</td>\n",
       "      <td>0</td>\n",
       "    </tr>\n",
       "    <tr>\n",
       "      <th>4</th>\n",
       "      <td>5</td>\n",
       "      <td>0</td>\n",
       "      <td>3</td>\n",
       "      <td>Allen, Mr. William Henry</td>\n",
       "      <td>male</td>\n",
       "      <td>35.000000</td>\n",
       "      <td>0</td>\n",
       "      <td>0</td>\n",
       "      <td>373450</td>\n",
       "      <td>8.0500</td>\n",
       "      <td>S</td>\n",
       "      <td>0</td>\n",
       "      <td>1</td>\n",
       "    </tr>\n",
       "    <tr>\n",
       "      <th>...</th>\n",
       "      <td>...</td>\n",
       "      <td>...</td>\n",
       "      <td>...</td>\n",
       "      <td>...</td>\n",
       "      <td>...</td>\n",
       "      <td>...</td>\n",
       "      <td>...</td>\n",
       "      <td>...</td>\n",
       "      <td>...</td>\n",
       "      <td>...</td>\n",
       "      <td>...</td>\n",
       "      <td>...</td>\n",
       "      <td>...</td>\n",
       "    </tr>\n",
       "    <tr>\n",
       "      <th>886</th>\n",
       "      <td>887</td>\n",
       "      <td>0</td>\n",
       "      <td>2</td>\n",
       "      <td>Montvila, Rev. Juozas</td>\n",
       "      <td>male</td>\n",
       "      <td>27.000000</td>\n",
       "      <td>0</td>\n",
       "      <td>0</td>\n",
       "      <td>211536</td>\n",
       "      <td>13.0000</td>\n",
       "      <td>S</td>\n",
       "      <td>0</td>\n",
       "      <td>1</td>\n",
       "    </tr>\n",
       "    <tr>\n",
       "      <th>887</th>\n",
       "      <td>888</td>\n",
       "      <td>1</td>\n",
       "      <td>1</td>\n",
       "      <td>Graham, Miss. Margaret Edith</td>\n",
       "      <td>female</td>\n",
       "      <td>19.000000</td>\n",
       "      <td>0</td>\n",
       "      <td>0</td>\n",
       "      <td>112053</td>\n",
       "      <td>30.0000</td>\n",
       "      <td>S</td>\n",
       "      <td>0</td>\n",
       "      <td>1</td>\n",
       "    </tr>\n",
       "    <tr>\n",
       "      <th>888</th>\n",
       "      <td>889</td>\n",
       "      <td>0</td>\n",
       "      <td>3</td>\n",
       "      <td>Johnston, Miss. Catherine Helen \"Carrie\"</td>\n",
       "      <td>female</td>\n",
       "      <td>29.699118</td>\n",
       "      <td>1</td>\n",
       "      <td>2</td>\n",
       "      <td>W./C. 6607</td>\n",
       "      <td>23.4500</td>\n",
       "      <td>S</td>\n",
       "      <td>3</td>\n",
       "      <td>0</td>\n",
       "    </tr>\n",
       "    <tr>\n",
       "      <th>889</th>\n",
       "      <td>890</td>\n",
       "      <td>1</td>\n",
       "      <td>1</td>\n",
       "      <td>Behr, Mr. Karl Howell</td>\n",
       "      <td>male</td>\n",
       "      <td>26.000000</td>\n",
       "      <td>0</td>\n",
       "      <td>0</td>\n",
       "      <td>111369</td>\n",
       "      <td>30.0000</td>\n",
       "      <td>C</td>\n",
       "      <td>0</td>\n",
       "      <td>1</td>\n",
       "    </tr>\n",
       "    <tr>\n",
       "      <th>890</th>\n",
       "      <td>891</td>\n",
       "      <td>0</td>\n",
       "      <td>3</td>\n",
       "      <td>Dooley, Mr. Patrick</td>\n",
       "      <td>male</td>\n",
       "      <td>32.000000</td>\n",
       "      <td>0</td>\n",
       "      <td>0</td>\n",
       "      <td>370376</td>\n",
       "      <td>7.7500</td>\n",
       "      <td>Q</td>\n",
       "      <td>0</td>\n",
       "      <td>1</td>\n",
       "    </tr>\n",
       "  </tbody>\n",
       "</table>\n",
       "<p>889 rows × 13 columns</p>\n",
       "</div>"
      ],
      "text/plain": [
       "     PassengerId  Survived  Pclass  \\\n",
       "0              1         0       3   \n",
       "1              2         1       1   \n",
       "2              3         1       3   \n",
       "3              4         1       1   \n",
       "4              5         0       3   \n",
       "..           ...       ...     ...   \n",
       "886          887         0       2   \n",
       "887          888         1       1   \n",
       "888          889         0       3   \n",
       "889          890         1       1   \n",
       "890          891         0       3   \n",
       "\n",
       "                                                  Name     Sex        Age  \\\n",
       "0                              Braund, Mr. Owen Harris    male  22.000000   \n",
       "1    Cumings, Mrs. John Bradley (Florence Briggs Th...  female  38.000000   \n",
       "2                               Heikkinen, Miss. Laina  female  26.000000   \n",
       "3         Futrelle, Mrs. Jacques Heath (Lily May Peel)  female  35.000000   \n",
       "4                             Allen, Mr. William Henry    male  35.000000   \n",
       "..                                                 ...     ...        ...   \n",
       "886                              Montvila, Rev. Juozas    male  27.000000   \n",
       "887                       Graham, Miss. Margaret Edith  female  19.000000   \n",
       "888           Johnston, Miss. Catherine Helen \"Carrie\"  female  29.699118   \n",
       "889                              Behr, Mr. Karl Howell    male  26.000000   \n",
       "890                                Dooley, Mr. Patrick    male  32.000000   \n",
       "\n",
       "     SibSp  Parch            Ticket     Fare Embarked  FamilySize  IsAlone  \n",
       "0        1      0         A/5 21171   7.2500        S           1        0  \n",
       "1        1      0          PC 17599  71.2833        C           1        0  \n",
       "2        0      0  STON/O2. 3101282   7.9250        S           0        1  \n",
       "3        1      0            113803  53.1000        S           1        0  \n",
       "4        0      0            373450   8.0500        S           0        1  \n",
       "..     ...    ...               ...      ...      ...         ...      ...  \n",
       "886      0      0            211536  13.0000        S           0        1  \n",
       "887      0      0            112053  30.0000        S           0        1  \n",
       "888      1      2        W./C. 6607  23.4500        S           3        0  \n",
       "889      0      0            111369  30.0000        C           0        1  \n",
       "890      0      0            370376   7.7500        Q           0        1  \n",
       "\n",
       "[889 rows x 13 columns]"
      ]
     },
     "execution_count": 583,
     "metadata": {},
     "output_type": "execute_result"
    }
   ],
   "source": [
    "from sklearn.preprocessing import LabelEncoder\n",
    "\n",
    "# Creating a new feature/column called family size\n",
    "ds[\"FamilySize\"] = ds[\"SibSp\"] + ds[\"Parch\"]\n",
    "\n",
    "# Creating a feature indicating if passenger is traveling alone and \n",
    "# map the values to create a binary 'IsAlone' column (1 if traveling alone, 0 if not)\n",
    "ds[\"IsAlone\"] = ds[\"FamilySize\"].map(lambda x: 1 if x == 0 else 0)\n",
    "\n",
    "# Apply label encoding to the 'IsAlone' column\n",
    "label_encoder = LabelEncoder()\n",
    "ds['IsAlone'] = label_encoder.fit_transform(ds['IsAlone'])\n",
    "\n",
    "# Display the updated DataFrame\n",
    "ds"
   ]
  },
  {
   "cell_type": "markdown",
   "id": "705280e9",
   "metadata": {},
   "source": [
    "##### Dropping the irrelevant columns"
   ]
  },
  {
   "cell_type": "code",
   "execution_count": 584,
   "id": "39663fe9",
   "metadata": {},
   "outputs": [
    {
     "data": {
      "text/html": [
       "<div>\n",
       "<style scoped>\n",
       "    .dataframe tbody tr th:only-of-type {\n",
       "        vertical-align: middle;\n",
       "    }\n",
       "\n",
       "    .dataframe tbody tr th {\n",
       "        vertical-align: top;\n",
       "    }\n",
       "\n",
       "    .dataframe thead th {\n",
       "        text-align: right;\n",
       "    }\n",
       "</style>\n",
       "<table border=\"1\" class=\"dataframe\">\n",
       "  <thead>\n",
       "    <tr style=\"text-align: right;\">\n",
       "      <th></th>\n",
       "      <th>Survived</th>\n",
       "      <th>Pclass</th>\n",
       "      <th>Sex</th>\n",
       "      <th>Age</th>\n",
       "      <th>Fare</th>\n",
       "      <th>Embarked</th>\n",
       "      <th>IsAlone</th>\n",
       "    </tr>\n",
       "  </thead>\n",
       "  <tbody>\n",
       "    <tr>\n",
       "      <th>0</th>\n",
       "      <td>0</td>\n",
       "      <td>3</td>\n",
       "      <td>male</td>\n",
       "      <td>22.0</td>\n",
       "      <td>7.2500</td>\n",
       "      <td>S</td>\n",
       "      <td>0</td>\n",
       "    </tr>\n",
       "    <tr>\n",
       "      <th>1</th>\n",
       "      <td>1</td>\n",
       "      <td>1</td>\n",
       "      <td>female</td>\n",
       "      <td>38.0</td>\n",
       "      <td>71.2833</td>\n",
       "      <td>C</td>\n",
       "      <td>0</td>\n",
       "    </tr>\n",
       "    <tr>\n",
       "      <th>2</th>\n",
       "      <td>1</td>\n",
       "      <td>3</td>\n",
       "      <td>female</td>\n",
       "      <td>26.0</td>\n",
       "      <td>7.9250</td>\n",
       "      <td>S</td>\n",
       "      <td>1</td>\n",
       "    </tr>\n",
       "    <tr>\n",
       "      <th>3</th>\n",
       "      <td>1</td>\n",
       "      <td>1</td>\n",
       "      <td>female</td>\n",
       "      <td>35.0</td>\n",
       "      <td>53.1000</td>\n",
       "      <td>S</td>\n",
       "      <td>0</td>\n",
       "    </tr>\n",
       "    <tr>\n",
       "      <th>4</th>\n",
       "      <td>0</td>\n",
       "      <td>3</td>\n",
       "      <td>male</td>\n",
       "      <td>35.0</td>\n",
       "      <td>8.0500</td>\n",
       "      <td>S</td>\n",
       "      <td>1</td>\n",
       "    </tr>\n",
       "  </tbody>\n",
       "</table>\n",
       "</div>"
      ],
      "text/plain": [
       "   Survived  Pclass     Sex   Age     Fare Embarked  IsAlone\n",
       "0         0       3    male  22.0   7.2500        S        0\n",
       "1         1       1  female  38.0  71.2833        C        0\n",
       "2         1       3  female  26.0   7.9250        S        1\n",
       "3         1       1  female  35.0  53.1000        S        0\n",
       "4         0       3    male  35.0   8.0500        S        1"
      ]
     },
     "execution_count": 584,
     "metadata": {},
     "output_type": "execute_result"
    }
   ],
   "source": [
    "# In our data the Ticket and passengerID, Name, sibsp and parch are irrelevant data,thus causes false prediction\n",
    "ds.drop(['SibSp', 'Parch', 'PassengerId', 'Ticket', 'Name', 'FamilySize'], axis=1, inplace=True)\n",
    "\n",
    "# Display the updated DataFrame\n",
    "ds.head()"
   ]
  },
  {
   "cell_type": "code",
   "execution_count": 585,
   "id": "63663e50",
   "metadata": {},
   "outputs": [
    {
     "name": "stdout",
     "output_type": "stream",
     "text": [
      "<class 'pandas.core.frame.DataFrame'>\n",
      "Index: 889 entries, 0 to 890\n",
      "Data columns (total 7 columns):\n",
      " #   Column    Non-Null Count  Dtype  \n",
      "---  ------    --------------  -----  \n",
      " 0   Survived  889 non-null    int64  \n",
      " 1   Pclass    889 non-null    int64  \n",
      " 2   Sex       889 non-null    object \n",
      " 3   Age       889 non-null    float64\n",
      " 4   Fare      889 non-null    float64\n",
      " 5   Embarked  889 non-null    object \n",
      " 6   IsAlone   889 non-null    int64  \n",
      "dtypes: float64(2), int64(3), object(2)\n",
      "memory usage: 55.6+ KB\n"
     ]
    }
   ],
   "source": [
    "ds.info()"
   ]
  },
  {
   "cell_type": "code",
   "execution_count": 586,
   "id": "b5ef0b87",
   "metadata": {},
   "outputs": [
    {
     "data": {
      "text/html": [
       "<div>\n",
       "<style scoped>\n",
       "    .dataframe tbody tr th:only-of-type {\n",
       "        vertical-align: middle;\n",
       "    }\n",
       "\n",
       "    .dataframe tbody tr th {\n",
       "        vertical-align: top;\n",
       "    }\n",
       "\n",
       "    .dataframe thead th {\n",
       "        text-align: right;\n",
       "    }\n",
       "</style>\n",
       "<table border=\"1\" class=\"dataframe\">\n",
       "  <thead>\n",
       "    <tr style=\"text-align: right;\">\n",
       "      <th></th>\n",
       "      <th>Survived</th>\n",
       "      <th>Pclass</th>\n",
       "      <th>Age</th>\n",
       "      <th>Fare</th>\n",
       "      <th>IsAlone</th>\n",
       "    </tr>\n",
       "  </thead>\n",
       "  <tbody>\n",
       "    <tr>\n",
       "      <th>count</th>\n",
       "      <td>889.00</td>\n",
       "      <td>889.00</td>\n",
       "      <td>889.00</td>\n",
       "      <td>889.00</td>\n",
       "      <td>889.00</td>\n",
       "    </tr>\n",
       "    <tr>\n",
       "      <th>mean</th>\n",
       "      <td>0.38</td>\n",
       "      <td>2.31</td>\n",
       "      <td>29.65</td>\n",
       "      <td>32.10</td>\n",
       "      <td>0.60</td>\n",
       "    </tr>\n",
       "    <tr>\n",
       "      <th>std</th>\n",
       "      <td>0.49</td>\n",
       "      <td>0.83</td>\n",
       "      <td>12.97</td>\n",
       "      <td>49.70</td>\n",
       "      <td>0.49</td>\n",
       "    </tr>\n",
       "    <tr>\n",
       "      <th>min</th>\n",
       "      <td>0.00</td>\n",
       "      <td>1.00</td>\n",
       "      <td>0.42</td>\n",
       "      <td>0.00</td>\n",
       "      <td>0.00</td>\n",
       "    </tr>\n",
       "    <tr>\n",
       "      <th>25%</th>\n",
       "      <td>0.00</td>\n",
       "      <td>2.00</td>\n",
       "      <td>22.00</td>\n",
       "      <td>7.90</td>\n",
       "      <td>0.00</td>\n",
       "    </tr>\n",
       "    <tr>\n",
       "      <th>50%</th>\n",
       "      <td>0.00</td>\n",
       "      <td>3.00</td>\n",
       "      <td>29.70</td>\n",
       "      <td>14.45</td>\n",
       "      <td>1.00</td>\n",
       "    </tr>\n",
       "    <tr>\n",
       "      <th>75%</th>\n",
       "      <td>1.00</td>\n",
       "      <td>3.00</td>\n",
       "      <td>35.00</td>\n",
       "      <td>31.00</td>\n",
       "      <td>1.00</td>\n",
       "    </tr>\n",
       "    <tr>\n",
       "      <th>max</th>\n",
       "      <td>1.00</td>\n",
       "      <td>3.00</td>\n",
       "      <td>80.00</td>\n",
       "      <td>512.33</td>\n",
       "      <td>1.00</td>\n",
       "    </tr>\n",
       "  </tbody>\n",
       "</table>\n",
       "</div>"
      ],
      "text/plain": [
       "       Survived  Pclass     Age    Fare  IsAlone\n",
       "count    889.00  889.00  889.00  889.00   889.00\n",
       "mean       0.38    2.31   29.65   32.10     0.60\n",
       "std        0.49    0.83   12.97   49.70     0.49\n",
       "min        0.00    1.00    0.42    0.00     0.00\n",
       "25%        0.00    2.00   22.00    7.90     0.00\n",
       "50%        0.00    3.00   29.70   14.45     1.00\n",
       "75%        1.00    3.00   35.00   31.00     1.00\n",
       "max        1.00    3.00   80.00  512.33     1.00"
      ]
     },
     "execution_count": 586,
     "metadata": {},
     "output_type": "execute_result"
    }
   ],
   "source": [
    "# Descriptive Statistics\n",
    "ds.describe().round(2)"
   ]
  },
  {
   "cell_type": "markdown",
   "id": "feb69c80",
   "metadata": {},
   "source": [
    "## Step 4: Modeling"
   ]
  },
  {
   "cell_type": "markdown",
   "id": "796fbc1a",
   "metadata": {},
   "source": [
    "#### Label encoding catergorical column\n",
    "\n",
    "`Sex` and `Embarked` are categorical and need encoding, encoding is essential to convert categorical data into a numeric format, meeting the input requirements of machine learning models for predicting passenger survival."
   ]
  },
  {
   "cell_type": "code",
   "execution_count": 587,
   "id": "6b75b936",
   "metadata": {},
   "outputs": [
    {
     "data": {
      "text/html": [
       "<div>\n",
       "<style scoped>\n",
       "    .dataframe tbody tr th:only-of-type {\n",
       "        vertical-align: middle;\n",
       "    }\n",
       "\n",
       "    .dataframe tbody tr th {\n",
       "        vertical-align: top;\n",
       "    }\n",
       "\n",
       "    .dataframe thead th {\n",
       "        text-align: right;\n",
       "    }\n",
       "</style>\n",
       "<table border=\"1\" class=\"dataframe\">\n",
       "  <thead>\n",
       "    <tr style=\"text-align: right;\">\n",
       "      <th></th>\n",
       "      <th>Survived</th>\n",
       "      <th>Pclass</th>\n",
       "      <th>Sex</th>\n",
       "      <th>Age</th>\n",
       "      <th>Fare</th>\n",
       "      <th>Embarked</th>\n",
       "      <th>IsAlone</th>\n",
       "    </tr>\n",
       "  </thead>\n",
       "  <tbody>\n",
       "    <tr>\n",
       "      <th>0</th>\n",
       "      <td>0</td>\n",
       "      <td>3</td>\n",
       "      <td>1</td>\n",
       "      <td>22.0</td>\n",
       "      <td>7.2500</td>\n",
       "      <td>2</td>\n",
       "      <td>0</td>\n",
       "    </tr>\n",
       "    <tr>\n",
       "      <th>1</th>\n",
       "      <td>1</td>\n",
       "      <td>1</td>\n",
       "      <td>0</td>\n",
       "      <td>38.0</td>\n",
       "      <td>71.2833</td>\n",
       "      <td>0</td>\n",
       "      <td>0</td>\n",
       "    </tr>\n",
       "    <tr>\n",
       "      <th>2</th>\n",
       "      <td>1</td>\n",
       "      <td>3</td>\n",
       "      <td>0</td>\n",
       "      <td>26.0</td>\n",
       "      <td>7.9250</td>\n",
       "      <td>2</td>\n",
       "      <td>1</td>\n",
       "    </tr>\n",
       "    <tr>\n",
       "      <th>3</th>\n",
       "      <td>1</td>\n",
       "      <td>1</td>\n",
       "      <td>0</td>\n",
       "      <td>35.0</td>\n",
       "      <td>53.1000</td>\n",
       "      <td>2</td>\n",
       "      <td>0</td>\n",
       "    </tr>\n",
       "    <tr>\n",
       "      <th>4</th>\n",
       "      <td>0</td>\n",
       "      <td>3</td>\n",
       "      <td>1</td>\n",
       "      <td>35.0</td>\n",
       "      <td>8.0500</td>\n",
       "      <td>2</td>\n",
       "      <td>1</td>\n",
       "    </tr>\n",
       "  </tbody>\n",
       "</table>\n",
       "</div>"
      ],
      "text/plain": [
       "   Survived  Pclass  Sex   Age     Fare  Embarked  IsAlone\n",
       "0         0       3    1  22.0   7.2500         2        0\n",
       "1         1       1    0  38.0  71.2833         0        0\n",
       "2         1       3    0  26.0   7.9250         2        1\n",
       "3         1       1    0  35.0  53.1000         2        0\n",
       "4         0       3    1  35.0   8.0500         2        1"
      ]
     },
     "execution_count": 587,
     "metadata": {},
     "output_type": "execute_result"
    }
   ],
   "source": [
    "# function for encoding the categorical column\n",
    "def label_encode_columns(dataframe, columns):\n",
    "    label_encoder = LabelEncoder()\n",
    "    for column in columns:\n",
    "        dataframe[column] = label_encoder.fit_transform(dataframe[column])\n",
    "    return dataframe\n",
    "\n",
    "# Example usage for 'Sex' and 'Embarked' columns\n",
    "columns_to_label_encode = ['Sex', 'Embarked']\n",
    "ds = label_encode_columns(ds, columns_to_label_encode)\n",
    "\n",
    "# Display the updated DataFrame\n",
    "ds.head()"
   ]
  },
  {
   "cell_type": "markdown",
   "id": "bc4de83b",
   "metadata": {},
   "source": [
    "Sex Column: `female` is encoded as 0. `male` is encoded as 1.\n",
    "\n",
    "Embarked Column: `C` is encoded as 0. `Q` is encoded as 1. 'S' is encoded as 2."
   ]
  },
  {
   "cell_type": "markdown",
   "id": "039ee9b3",
   "metadata": {},
   "source": [
    "#### Splitting the datasets to Train and Test"
   ]
  },
  {
   "cell_type": "code",
   "execution_count": 588,
   "id": "2da9b4d5",
   "metadata": {},
   "outputs": [],
   "source": [
    "# Separate features (X) and target variable (y)\n",
    "X = ds.drop(['Survived','Pclass'], axis=1)\n",
    "y = ds['Survived']\n",
    "\n",
    "# Split the data into training and testing sets\n",
    "X_train, X_test, y_train, y_test = train_test_split(X, y, test_size=0.2, random_state=42)"
   ]
  },
  {
   "cell_type": "markdown",
   "id": "76b25b62",
   "metadata": {},
   "source": [
    "### 1. Random Forest"
   ]
  },
  {
   "cell_type": "code",
   "execution_count": 589,
   "id": "03147e09",
   "metadata": {},
   "outputs": [
    {
     "name": "stdout",
     "output_type": "stream",
     "text": [
      "Accuracy: 0.77\n",
      "\n",
      "Classification Report:\n",
      "               precision    recall  f1-score   support\n",
      "\n",
      "           0       0.84      0.77      0.80       109\n",
      "           1       0.68      0.77      0.72        69\n",
      "\n",
      "    accuracy                           0.77       178\n",
      "   macro avg       0.76      0.77      0.76       178\n",
      "weighted avg       0.78      0.77      0.77       178\n",
      "\n",
      "\n",
      "Confusion Matrix:\n",
      " [[84 25]\n",
      " [16 53]]\n"
     ]
    }
   ],
   "source": [
    "# Initialize the Random Forest\n",
    "rf_model = RandomForestClassifier(random_state=42)\n",
    "\n",
    "# Train the model\n",
    "rf_model.fit(X_train, y_train)\n",
    "\n",
    "# Make predictions on the test set\n",
    "y_pred = rf_model.predict(X_test)\n",
    "\n",
    "# Evaluate the model\n",
    "accuracy = accuracy_score(y_test, y_pred)\n",
    "classification_rep = classification_report(y_test, y_pred)\n",
    "conf_matrix = confusion_matrix(y_test, y_pred)\n",
    "\n",
    "# Display the results\n",
    "print(f\"Accuracy: {accuracy:.2f}\\n\")\n",
    "print(\"Classification Report:\\n\", classification_rep)\n",
    "print(\"\\nConfusion Matrix:\\n\", conf_matrix)"
   ]
  },
  {
   "cell_type": "code",
   "execution_count": 610,
   "id": "d30441f5",
   "metadata": {},
   "outputs": [
    {
     "name": "stdout",
     "output_type": "stream",
     "text": [
      "Cross-Validation Scores: [0.78451178 0.76351351 0.79391892]\n",
      "Mean Accuracy: 0.780648072314739\n"
     ]
    }
   ],
   "source": [
    "from sklearn.model_selection import cross_val_score, StratifiedKFold\n",
    "# Define the cross-validation strategy\n",
    "cv = StratifiedKFold(n_splits=3, shuffle=True, random_state=42)\n",
    "\n",
    "# Perform cross-validation\n",
    "cv_scores = cross_val_score(rf_model, X, y, cv=cv, scoring='accuracy')\n",
    "\n",
    "# Display the cross-validation scores\n",
    "print(\"Cross-Validation Scores:\", cv_scores)\n",
    "print(\"Mean Accuracy:\", cv_scores.mean())"
   ]
  },
  {
   "cell_type": "code",
   "execution_count": 591,
   "id": "8b44bee3",
   "metadata": {},
   "outputs": [
    {
     "data": {
      "image/png": "[encoded data removed]",
      "text/plain": [
       "<Figure size 800x600 with 1 Axes>"
      ]
     },
     "metadata": {},
     "output_type": "display_data"
    }
   ],
   "source": [
    "from sklearn.metrics import roc_curve, auc\n",
    "\n",
    "# use your trained model\n",
    "y_train_prob = b_model.predict_proba(X_train)[:, 1]\n",
    "fpr_train, tpr_train, _ = roc_curve(y_train, y_train_prob)\n",
    "\n",
    "y_test_prob = b_model.predict_proba(X_test)[:, 1]\n",
    "fpr_test, tpr_test, _ = roc_curve(y_test, y_test_prob)\n",
    "\n",
    "# Plot ROC curves\n",
    "plt.figure(figsize=(8, 6))\n",
    "plt.plot(fpr_train, tpr_train, label='Train ROC curve (AUC = {:.2f})'.format(auc(fpr_train, tpr_train)))\n",
    "plt.plot(fpr_test, tpr_test, label='Test ROC curve (AUC = {:.2f})'.format(auc(fpr_test, tpr_test)))\n",
    "plt.plot([0, 1], [0, 1], linestyle='--', color='gray', label='Random')\n",
    "plt.xlabel('False Positive Rate')\n",
    "plt.ylabel('True Positive Rate')\n",
    "plt.title('Receiver Operating Characteristic (ROC) Curve')\n",
    "plt.legend()\n",
    "plt.show()"
   ]
  },
  {
   "cell_type": "code",
   "execution_count": 592,
   "id": "1336d73f",
   "metadata": {},
   "outputs": [
    {
     "name": "stdout",
     "output_type": "stream",
     "text": [
      "Train AUC: 1.00\n",
      "Test AUC: 0.84\n"
     ]
    }
   ],
   "source": [
    "from sklearn.metrics import roc_auc_score\n",
    "\n",
    "# Calculate AUC scores\n",
    "auc_train = roc_auc_score(y_train, y_train_prob)\n",
    "auc_test = roc_auc_score(y_test, y_test_prob)\n",
    "\n",
    "print('Train AUC: {:.2f}'.format(auc_train))\n",
    "print('Test AUC: {:.2f}'.format(auc_test))"
   ]
  },
  {
   "cell_type": "markdown",
   "id": "1452f4a9",
   "metadata": {},
   "source": [
    "### 2. Logistic Regression"
   ]
  },
  {
   "cell_type": "code",
   "execution_count": 593,
   "id": "2e6d57e2",
   "metadata": {},
   "outputs": [
    {
     "name": "stdout",
     "output_type": "stream",
     "text": [
      "Accuracy: 0.80\n",
      "\n",
      "Classification Report:\n",
      "               precision    recall  f1-score   support\n",
      "\n",
      "           0       0.86      0.82      0.84       109\n",
      "           1       0.73      0.78      0.76        69\n",
      "\n",
      "    accuracy                           0.80       178\n",
      "   macro avg       0.79      0.80      0.80       178\n",
      "weighted avg       0.81      0.80      0.80       178\n",
      "\n",
      "\n",
      "Confusion Matrix:\n",
      " [[89 20]\n",
      " [15 54]]\n"
     ]
    }
   ],
   "source": [
    "# Initialize the Logistic Regression model\n",
    "logreg_model = LogisticRegression(random_state=42)\n",
    "\n",
    "# Train the model\n",
    "logreg_model.fit(X_train, y_train)\n",
    "\n",
    "# Make predictions on the test set\n",
    "y_pred = logreg_model.predict(X_test)\n",
    "\n",
    "# Evaluate the model\n",
    "accuracy = accuracy_score(y_test, y_pred)\n",
    "classification_rep = classification_report(y_test, y_pred)\n",
    "conf_matrix = confusion_matrix(y_test, y_pred)\n",
    "\n",
    "# Display the summary\n",
    "print(f\"Accuracy: {accuracy:.2f}\\n\")\n",
    "print(\"Classification Report:\\n\", classification_rep)\n",
    "print(\"\\nConfusion Matrix:\\n\", conf_matrix)"
   ]
  },
  {
   "cell_type": "markdown",
   "id": "7b65f570",
   "metadata": {},
   "source": [
    "### 3. Decision Tree Classifier"
   ]
  },
  {
   "cell_type": "code",
   "execution_count": 594,
   "id": "362d1cfe",
   "metadata": {},
   "outputs": [
    {
     "name": "stdout",
     "output_type": "stream",
     "text": [
      "Accuracy: 0.74\n",
      "\n",
      "Classification Report:\n",
      "               precision    recall  f1-score   support\n",
      "\n",
      "           0       0.85      0.70      0.77       109\n",
      "           1       0.63      0.81      0.71        69\n",
      "\n",
      "    accuracy                           0.74       178\n",
      "   macro avg       0.74      0.75      0.74       178\n",
      "weighted avg       0.77      0.74      0.74       178\n",
      "\n",
      "\n",
      "Confusion Matrix:\n",
      " [[76 33]\n",
      " [13 56]]\n"
     ]
    }
   ],
   "source": [
    "from sklearn.tree import DecisionTreeClassifier\n",
    "# Initialize the Decision Tree Classifier\n",
    "dt_model = DecisionTreeClassifier(random_state=42)\n",
    "\n",
    "# Train the model\n",
    "dt_model.fit(X_train, y_train)\n",
    "\n",
    "# Make predictions on the test set\n",
    "y_pred = dt_model.predict(X_test)\n",
    "\n",
    "# Evaluate the model\n",
    "accuracy = accuracy_score(y_test, y_pred)\n",
    "classification_rep = classification_report(y_test, y_pred)\n",
    "conf_matrix = confusion_matrix(y_test, y_pred)\n",
    "\n",
    "# Display the results\n",
    "print(f\"Accuracy: {accuracy:.2f}\\n\")\n",
    "print(\"Classification Report:\\n\", classification_rep)\n",
    "print(\"\\nConfusion Matrix:\\n\", conf_matrix)"
   ]
  },
  {
   "cell_type": "code",
   "execution_count": 595,
   "id": "3f9194d7",
   "metadata": {},
   "outputs": [
    {
     "name": "stdout",
     "output_type": "stream",
     "text": [
      "Cross-Validation Scores: [0.75420875 0.75675676 0.74324324]\n",
      "Mean Accuracy: 0.7514029180695848\n"
     ]
    }
   ],
   "source": [
    "# Define the cross-validation strategy\n",
    "cv = StratifiedKFold(n_splits=3, shuffle=True, random_state=42)\n",
    "\n",
    "# Perform cross-validation\n",
    "cv_scores = cross_val_score(dt_model, X, y, cv=cv, scoring='accuracy')\n",
    "\n",
    "# Display the cross-validation scores\n",
    "print(\"Cross-Validation Scores:\", cv_scores)\n",
    "print(\"Mean Accuracy:\", cv_scores.mean())"
   ]
  },
  {
   "cell_type": "code",
   "execution_count": 596,
   "id": "193184f5",
   "metadata": {},
   "outputs": [
    {
     "data": {
      "image/png": "[encoded data removed]",
      "text/plain": [
       "<Figure size 800x600 with 1 Axes>"
      ]
     },
     "metadata": {},
     "output_type": "display_data"
    }
   ],
   "source": [
    "# use your trained model\n",
    "y_train_prob = dt_model.predict_proba(X_train)[:, 1]\n",
    "fpr_train, tpr_train, _ = roc_curve(y_train, y_train_prob)\n",
    "\n",
    "y_test_prob = dt_model.predict_proba(X_test)[:, 1]\n",
    "fpr_test, tpr_test, _ = roc_curve(y_test, y_test_prob)\n",
    "\n",
    "# Plot ROC curves\n",
    "plt.figure(figsize=(8, 6))\n",
    "plt.plot(fpr_train, tpr_train, label='Train ROC curve (AUC = {:.2f})'.format(auc(fpr_train, tpr_train)))\n",
    "plt.plot(fpr_test, tpr_test, label='Test ROC curve (AUC = {:.2f})'.format(auc(fpr_test, tpr_test)))\n",
    "plt.plot([0, 1], [0, 1], linestyle='--', color='gray', label='Random')\n",
    "plt.xlabel('False Positive Rate')\n",
    "plt.ylabel('True Positive Rate')\n",
    "plt.title('Receiver Operating Characteristic (ROC) Curve')\n",
    "plt.legend()\n",
    "plt.show()"
   ]
  },
  {
   "cell_type": "code",
   "execution_count": 597,
   "id": "28a7d980",
   "metadata": {},
   "outputs": [
    {
     "name": "stdout",
     "output_type": "stream",
     "text": [
      "Train AUC: 1.00\n",
      "Test AUC: 0.75\n"
     ]
    }
   ],
   "source": [
    "# Calculate AUC scores\n",
    "auc_train = roc_auc_score(y_train, y_train_prob)\n",
    "auc_test = roc_auc_score(y_test, y_test_prob)\n",
    "\n",
    "print('Train AUC: {:.2f}'.format(auc_train))\n",
    "print('Test AUC: {:.2f}'.format(auc_test))"
   ]
  },
  {
   "cell_type": "markdown",
   "id": "c540edfb",
   "metadata": {},
   "source": [
    "### 4. Support Vector Machine Classifier"
   ]
  },
  {
   "cell_type": "code",
   "execution_count": 598,
   "id": "ba3070ae",
   "metadata": {},
   "outputs": [
    {
     "name": "stdout",
     "output_type": "stream",
     "text": [
      "Accuracy: 0.68\n",
      "\n",
      "Classification Report:\n",
      "               precision    recall  f1-score   support\n",
      "\n",
      "           0       0.67      0.93      0.78       109\n",
      "           1       0.71      0.29      0.41        69\n",
      "\n",
      "    accuracy                           0.68       178\n",
      "   macro avg       0.69      0.61      0.60       178\n",
      "weighted avg       0.69      0.68      0.64       178\n",
      "\n",
      "\n",
      "Confusion Matrix:\n",
      " [[101   8]\n",
      " [ 49  20]]\n"
     ]
    }
   ],
   "source": [
    "# Initialize the Support Vector Machine Classifier\n",
    "svm_model = SVC(probability=True, random_state=42)\n",
    "\n",
    "# Train the model\n",
    "svm_model.fit(X_train, y_train)\n",
    "\n",
    "# Make predictions on the test set\n",
    "y_pred = svm_model.predict(X_test)\n",
    "\n",
    "# Evaluate the model\n",
    "accuracy = accuracy_score(y_test, y_pred)\n",
    "classification_rep = classification_report(y_test, y_pred)\n",
    "conf_matrix = confusion_matrix(y_test, y_pred)\n",
    "\n",
    "# Display the results\n",
    "print(f\"Accuracy: {accuracy:.2f}\\n\")\n",
    "print(\"Classification Report:\\n\", classification_rep)\n",
    "print(\"\\nConfusion Matrix:\\n\", conf_matrix)"
   ]
  },
  {
   "cell_type": "code",
   "execution_count": 599,
   "id": "51358aaf",
   "metadata": {},
   "outputs": [
    {
     "name": "stdout",
     "output_type": "stream",
     "text": [
      "Cross-Validation Scores: [0.67003367 0.64189189 0.68243243]\n",
      "Mean Accuracy: 0.6647859981193315\n"
     ]
    }
   ],
   "source": [
    "# Define the cross-validation strategy\n",
    "cv = StratifiedKFold(n_splits=3, shuffle=True, random_state=42)\n",
    "\n",
    "# Perform cross-validation\n",
    "cv_scores = cross_val_score(svm_model, X, y, cv=cv, scoring='accuracy')\n",
    "\n",
    "# Display the cross-validation scores\n",
    "print(\"Cross-Validation Scores:\", cv_scores)\n",
    "print(\"Mean Accuracy:\", cv_scores.mean())"
   ]
  },
  {
   "cell_type": "code",
   "execution_count": 600,
   "id": "93034807",
   "metadata": {},
   "outputs": [
    {
     "data": {
      "image/png": "[encoded data removed]",
      "text/plain": [
       "<Figure size 800x600 with 1 Axes>"
      ]
     },
     "metadata": {},
     "output_type": "display_data"
    }
   ],
   "source": [
    "# using svm trained model\n",
    "y_train_prob = svm_model.predict_proba(X_train)[:, 1]\n",
    "fpr_train, tpr_train, _ = roc_curve(y_train, y_train_prob)\n",
    "\n",
    "y_test_prob = svm_model.predict_proba(X_test)[:, 1]\n",
    "fpr_test, tpr_test, _ = roc_curve(y_test, y_test_prob)\n",
    "\n",
    "# Plot ROC curves\n",
    "plt.figure(figsize=(8, 6))\n",
    "plt.plot(fpr_train, tpr_train, label='Train ROC curve (AUC = {:.2f})'.format(auc(fpr_train, tpr_train)))\n",
    "plt.plot(fpr_test, tpr_test, label='Test ROC curve (AUC = {:.2f})'.format(auc(fpr_test, tpr_test)))\n",
    "plt.plot([0, 1], [0, 1], linestyle='--', color='gray', label='Random')\n",
    "plt.xlabel('False Positive Rate')\n",
    "plt.ylabel('True Positive Rate')\n",
    "plt.title('Receiver Operating Characteristic (ROC) Curve')\n",
    "plt.legend()\n",
    "plt.show()"
   ]
  },
  {
   "cell_type": "code",
   "execution_count": 601,
   "id": "de483b50",
   "metadata": {},
   "outputs": [
    {
     "name": "stdout",
     "output_type": "stream",
     "text": [
      "Train AUC: 0.74\n",
      "Test AUC: 0.75\n"
     ]
    }
   ],
   "source": [
    "# Calculate AUC scores\n",
    "auc_train = roc_auc_score(y_train, y_train_prob)\n",
    "auc_test = roc_auc_score(y_test, y_test_prob)\n",
    "\n",
    "print('Train AUC: {:.2f}'.format(auc_train))\n",
    "print('Test AUC: {:.2f}'.format(auc_test))"
   ]
  },
  {
   "cell_type": "markdown",
   "id": "8133fea2",
   "metadata": {},
   "source": [
    "### 5. K-Nearest Neighbors Classifier"
   ]
  },
  {
   "cell_type": "code",
   "execution_count": 602,
   "id": "6f39a61d",
   "metadata": {},
   "outputs": [
    {
     "name": "stdout",
     "output_type": "stream",
     "text": [
      "Accuracy: 0.69\n",
      "\n",
      "Classification Report:\n",
      "               precision    recall  f1-score   support\n",
      "\n",
      "           0       0.71      0.83      0.77       109\n",
      "           1       0.63      0.48      0.55        69\n",
      "\n",
      "    accuracy                           0.69       178\n",
      "   macro avg       0.67      0.65      0.66       178\n",
      "weighted avg       0.68      0.69      0.68       178\n",
      "\n",
      "\n",
      "Confusion Matrix:\n",
      " [[90 19]\n",
      " [36 33]]\n"
     ]
    }
   ],
   "source": [
    "# Initialize the k-Nearest Neighbors Classifier\n",
    "knn_model = KNeighborsClassifier()\n",
    "\n",
    "# Train the model\n",
    "knn_model.fit(X_train, y_train)\n",
    "\n",
    "# Make predictions on the test set\n",
    "y_pred = knn_model.predict(X_test)\n",
    "\n",
    "# Evaluate the model\n",
    "accuracy = accuracy_score(y_test, y_pred)\n",
    "classification_rep = classification_report(y_test, y_pred)\n",
    "conf_matrix = confusion_matrix(y_test, y_pred)\n",
    "\n",
    "# Display the results\n",
    "print(f\"Accuracy: {accuracy:.2f}\\n\")\n",
    "print(\"Classification Report:\\n\", classification_rep)\n",
    "print(\"\\nConfusion Matrix:\\n\", conf_matrix)"
   ]
  },
  {
   "cell_type": "code",
   "execution_count": 603,
   "id": "89b356bc",
   "metadata": {},
   "outputs": [
    {
     "name": "stdout",
     "output_type": "stream",
     "text": [
      "Cross-Validation Scores: [0.69360269 0.71621622 0.71283784]\n",
      "Mean Accuracy: 0.7075522492189159\n"
     ]
    }
   ],
   "source": [
    "# Define the cross-validation strategy\n",
    "cv = StratifiedKFold(n_splits=3, shuffle=True, random_state=42)\n",
    "\n",
    "# Perform cross-validation\n",
    "cv_scores = cross_val_score(knn_model, X, y, cv=cv, scoring='accuracy')\n",
    "\n",
    "# Display the cross-validation scores\n",
    "print(\"Cross-Validation Scores:\", cv_scores)\n",
    "print(\"Mean Accuracy:\", cv_scores.mean())"
   ]
  },
  {
   "cell_type": "code",
   "execution_count": 604,
   "id": "7673d8ae",
   "metadata": {},
   "outputs": [
    {
     "data": {
      "image/png": "[encoded data removed]",
      "text/plain": [
       "<Figure size 800x600 with 1 Axes>"
      ]
     },
     "metadata": {},
     "output_type": "display_data"
    }
   ],
   "source": [
    "# using knn is your trained model\n",
    "y_train_prob = knn_model.predict_proba(X_train)[:, 1]\n",
    "fpr_train, tpr_train, _ = roc_curve(y_train, y_train_prob)\n",
    "\n",
    "y_test_prob = knn_model.predict_proba(X_test)[:, 1]\n",
    "fpr_test, tpr_test, _ = roc_curve(y_test, y_test_prob)\n",
    "\n",
    "# Plot ROC curves\n",
    "plt.figure(figsize=(8, 6))\n",
    "plt.plot(fpr_train, tpr_train, label='Train ROC curve (AUC = {:.2f})'.format(auc(fpr_train, tpr_train)))\n",
    "plt.plot(fpr_test, tpr_test, label='Test ROC curve (AUC = {:.2f})'.format(auc(fpr_test, tpr_test)))\n",
    "plt.plot([0, 1], [0, 1], linestyle='--', color='gray', label='Random')\n",
    "plt.xlabel('False Positive Rate')\n",
    "plt.ylabel('True Positive Rate')\n",
    "plt.title('Receiver Operating Characteristic (ROC) Curve')\n",
    "plt.legend()\n",
    "plt.show()"
   ]
  },
  {
   "cell_type": "code",
   "execution_count": 605,
   "id": "831ce97a",
   "metadata": {},
   "outputs": [
    {
     "name": "stdout",
     "output_type": "stream",
     "text": [
      "Train AUC: 0.87\n",
      "Test AUC: 0.72\n"
     ]
    }
   ],
   "source": [
    "# Calculate AUC scores\n",
    "auc_train = roc_auc_score(y_train, y_train_prob)\n",
    "auc_test = roc_auc_score(y_test, y_test_prob)\n",
    "\n",
    "print('Train AUC: {:.2f}'.format(auc_train))\n",
    "print('Test AUC: {:.2f}'.format(auc_test))"
   ]
  },
  {
   "cell_type": "markdown",
   "id": "d14774c5",
   "metadata": {},
   "source": [
    "## Step 5: Model Evaluation and Conclusion"
   ]
  },
  {
   "cell_type": "markdown",
   "id": "6d1ce69b",
   "metadata": {},
   "source": [
    "We evaluated five different machine learning models on the task of predicting survival in the Titanic dataset. The models include Random Forest, Logistic Regression, Decision Tree, Support Vector Machine (SVM), and K-Nearest Neighbors (KNN). Below is a summary of the evaluation results:"
   ]
  },
  {
   "cell_type": "markdown",
   "id": "a207ddcb",
   "metadata": {},
   "source": [
    "#### Model Performance"
   ]
  },
  {
   "cell_type": "code",
   "execution_count": 613,
   "id": "85a4a79d",
   "metadata": {},
   "outputs": [
    {
     "data": {
      "text/html": [
       "<div>\n",
       "<style scoped>\n",
       "    .dataframe tbody tr th:only-of-type {\n",
       "        vertical-align: middle;\n",
       "    }\n",
       "\n",
       "    .dataframe tbody tr th {\n",
       "        vertical-align: top;\n",
       "    }\n",
       "\n",
       "    .dataframe thead th {\n",
       "        text-align: right;\n",
       "    }\n",
       "</style>\n",
       "<table border=\"1\" class=\"dataframe\">\n",
       "  <thead>\n",
       "    <tr style=\"text-align: right;\">\n",
       "      <th></th>\n",
       "      <th>Model</th>\n",
       "      <th>Accuracy</th>\n",
       "      <th>AUC</th>\n",
       "    </tr>\n",
       "  </thead>\n",
       "  <tbody>\n",
       "    <tr>\n",
       "      <th>0</th>\n",
       "      <td>Random Forest</td>\n",
       "      <td>0.769663</td>\n",
       "      <td>0.842109</td>\n",
       "    </tr>\n",
       "    <tr>\n",
       "      <th>1</th>\n",
       "      <td>Logistic Regression</td>\n",
       "      <td>0.803371</td>\n",
       "      <td>0.823627</td>\n",
       "    </tr>\n",
       "    <tr>\n",
       "      <th>2</th>\n",
       "      <td>Decision Tree</td>\n",
       "      <td>0.741573</td>\n",
       "      <td>0.747573</td>\n",
       "    </tr>\n",
       "    <tr>\n",
       "      <th>3</th>\n",
       "      <td>Support Vector Machine</td>\n",
       "      <td>0.679775</td>\n",
       "      <td>0.749302</td>\n",
       "    </tr>\n",
       "    <tr>\n",
       "      <th>4</th>\n",
       "      <td>K-Nearest Neighbors</td>\n",
       "      <td>0.691011</td>\n",
       "      <td>0.722710</td>\n",
       "    </tr>\n",
       "  </tbody>\n",
       "</table>\n",
       "</div>"
      ],
      "text/plain": [
       "                    Model  Accuracy       AUC\n",
       "0           Random Forest  0.769663  0.842109\n",
       "1     Logistic Regression  0.803371  0.823627\n",
       "2           Decision Tree  0.741573  0.747573\n",
       "3  Support Vector Machine  0.679775  0.749302\n",
       "4     K-Nearest Neighbors  0.691011  0.722710"
      ]
     },
     "execution_count": 613,
     "metadata": {},
     "output_type": "execute_result"
    }
   ],
   "source": [
    "#  list of trained models\n",
    "models = [rf_model, logreg_model, dt_model, svm_model, knn_model]\n",
    "\n",
    "# Data\n",
    "model_names = ['Random Forest', 'Logistic Regression', 'Decision Tree', 'Support Vector Machine', 'K-Nearest Neighbors']\n",
    "accuracy_scores = []\n",
    "auc_scores = []\n",
    "\n",
    "# Loop through the trained models\n",
    "for model in models:\n",
    "    # Make predictions on the test set\n",
    "    y_pred = model.predict(X_test)\n",
    "    \n",
    "    # Calculate accuracy\n",
    "    accuracy = accuracy_score(y_test, y_pred)\n",
    "    accuracy_scores.append(accuracy)\n",
    "    \n",
    "    # Calculate AUC\n",
    "    y_test_prob = model.predict_proba(X_test)[:, 1]\n",
    "    auc = roc_auc_score(y_test, y_test_prob)\n",
    "    auc_scores.append(auc)\n",
    "\n",
    "# Create a DataFrame\n",
    "results_df = pd.DataFrame({\n",
    "    'Model': model_names,\n",
    "    'Accuracy': accuracy_scores,\n",
    "    'AUC': auc_scores\n",
    "})\n",
    "\n",
    "# Display the DataFrame\n",
    "results_df"
   ]
  },
  {
   "cell_type": "markdown",
   "id": "a08e115d",
   "metadata": {},
   "source": [
    "#### Evaluation Summary\n",
    "1. `Random Forest`\n",
    "\n",
    "- Displayed an accuracy of 77% (0.769663) on the test set.\n",
    "- Demonstrated an excellent and highest performance with AUC scores of 84% (0.842109).\n",
    "\n",
    "2. `Logistic Regression`\n",
    "\n",
    "- Displayed a good accuracy of 80% (0.803371) which is the highest score on the test set.\n",
    "- Demonstrated an excellent performance with AUC scores of 82% (0.823627).\n",
    "\n",
    "3. `Decision Tree:`\n",
    " \n",
    "- Achieved an accuracy of 74% (0.741573) on the test set.\n",
    "- Demonstrated an even performance with AUC scores of 75% (0.747573).\n",
    "\n",
    "4. `Support Vector Machine (SVM):`\n",
    "\n",
    "- Showed moderate accuracy of 68% (0.679775) on the test set.\n",
    "- Achieved AUC score of 75% (0.749302).\n",
    "\n",
    "5. `K-Nearest Neighbors (KNN):`\n",
    "\n",
    "- Demonstrated good accuracy of 69% (0.691011) on the test set.\n",
    "- Showed an AUC score of 72% (0.722710)."
   ]
  },
  {
   "cell_type": "markdown",
   "id": "b4c7bf64",
   "metadata": {},
   "source": [
    "# Conclusion"
   ]
  },
  {
   "cell_type": "markdown",
   "id": "193f90db",
   "metadata": {},
   "source": [
    "#### Summary of Key Findings and Practical Applications:\n",
    "\n",
    "In our exploration of Machine Learning Models using the Titanic dataset, I compared several models to predict passenger survival which are: Logistic Regression, Random Forest, Decision Tree, Support Vector Machine, and K-Nearest Neighbors.\n",
    "\n",
    "`Key Findings`:\n",
    "\n",
    "- Logistic Regression emerged as the champion, showcasing an impressive 80% accuracy and 82% AUC score. This highlights its effectiveness in this specific classification task.\n",
    "- Random Forest came close with 77% accuracy and an outstanding 84% AUC score. Despite slightly lower accuracy, its strong AUC suggests potential for specific classification tasks with further hyperparameter tuning.\n",
    "- Other models showed moderate performance, ranging from 67% to 74% accuracy and 72% to 75% AUC scores. Decision Tree might be a viable alternative depending on project goals and interpretability needs.\n",
    "\n",
    "`Practical Applications`:\n",
    "\n",
    "- Beyond predicting individual survival, these models offer insights into factors influencing survival patterns. Understanding these patterns could inform future safety protocols and emergency response measures during maritime disasters.\n",
    "- Furthermore, the learnings from this exercise can be broadly applied to various classification tasks across different domains, requiring similar data analysis and model selection considerations."
   ]
  }
 ],
 "metadata": {
  "kernelspec": {
   "display_name": "Python 3 (ipykernel)",
   "language": "python",
   "name": "python3"
  },
  "language_info": {
   "codemirror_mode": {
    "name": "ipython",
    "version": 3
   },
   "file_extension": ".py",
   "mimetype": "text/x-python",
   "name": "python",
   "nbconvert_exporter": "python",
   "pygments_lexer": "ipython3",
   "version": "3.11.5"
  }
 },
 "nbformat": 4,
 "nbformat_minor": 5
}
